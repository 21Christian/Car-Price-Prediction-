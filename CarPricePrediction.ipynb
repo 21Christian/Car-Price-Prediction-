{
 "cells": [
  {
   "cell_type": "code",
   "execution_count": 13,
   "id": "3b6604ec",
   "metadata": {},
   "outputs": [
    {
     "data": {
      "text/plain": [
       "array([30253.10988464])"
      ]
     },
     "execution_count": 13,
     "metadata": {},
     "output_type": "execute_result"
    }
   ],
   "source": [
    "import pandas as pd\n",
    "from sklearn.linear_model import LinearRegression\n",
    "from sklearn.preprocessing import LabelEncoder\n",
    "# loading the data\n",
    "df = pd.read_csv('name of path')\n",
    "# creating the label encoder\n",
    "le = LabelEncoder()\n",
    "# creating dummy columns\n",
    "dummies = pd.get_dummies(df.CarModel)\n",
    "# merging the data with the dummy columns and dropping the not needed data\n",
    "merged = pd.concat([df, dummies], axis = 'columns')\n",
    "final = merged.drop(columns=['CarModel', 'BMW X5'])\n",
    "\n",
    "# creating the rows and columns\n",
    "X = final.drop('Price', axis = 'columns').values\n",
    "y = final.Price\n",
    "\n",
    "# creating the model and training it\n",
    "model = LinearRegression()\n",
    "model.fit(X, y)\n",
    "\n",
    "# making a prediction for a 4 year old mercedes with 45000 miles\n",
    "model.predict([[45000, 4, 0, 1]])"
   ]
  },
  {
   "cell_type": "code",
   "execution_count": 14,
   "id": "b3445a56",
   "metadata": {},
   "outputs": [
    {
     "data": {
      "text/plain": [
       "array([11080.74313267])"
      ]
     },
     "execution_count": 14,
     "metadata": {},
     "output_type": "execute_result"
    }
   ],
   "source": [
    "# making a prediction for a 7 year old bmw with 86000 miles\n",
    "model.predict([[86000, 7, 0, 0]])"
   ]
  },
  {
   "cell_type": "code",
   "execution_count": 16,
   "id": "b86287cc",
   "metadata": {},
   "outputs": [
    {
     "data": {
      "text/plain": [
       "0.9417050937281082"
      ]
     },
     "execution_count": 16,
     "metadata": {},
     "output_type": "execute_result"
    }
   ],
   "source": [
    "# score accuracy \n",
    "model.score(X, y)"
   ]
  }
 ],
 "metadata": {
  "kernelspec": {
   "display_name": "Python 3 (ipykernel)",
   "language": "python",
   "name": "python3"
  },
  "language_info": {
   "codemirror_mode": {
    "name": "ipython",
    "version": 3
   },
   "file_extension": ".py",
   "mimetype": "text/x-python",
   "name": "python",
   "nbconvert_exporter": "python",
   "pygments_lexer": "ipython3",
   "version": "3.9.12"
  }
 },
 "nbformat": 4,
 "nbformat_minor": 5
}
